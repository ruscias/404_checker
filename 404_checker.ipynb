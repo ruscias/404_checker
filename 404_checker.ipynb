{
  "nbformat": 4,
  "nbformat_minor": 0,
  "metadata": {
    "colab": {
      "name": "404_checker.ipynb",
      "provenance": [],
      "collapsed_sections": []
    },
    "kernelspec": {
      "name": "python3",
      "display_name": "Python 3"
    }
  },
  "cells": [
    {
      "cell_type": "code",
      "metadata": {
        "id": "00LSx01wE1hx"
      },
      "source": [
        "import requests \n",
        "import pandas as pd\n",
        "from google.colab import files"
      ],
      "execution_count": 7,
      "outputs": []
    },
    {
      "cell_type": "code",
      "metadata": {
        "colab": {
          "base_uri": "https://localhost:8080/",
          "height": 17
        },
        "id": "LZtMza0AD9hn",
        "outputId": "05bece2c-00b3-4e33-8864-56b314f4ee04"
      },
      "source": [
        "#sets URL of Google sheet as a variable, converting it to a raw value via r''\n",
        "pathToCsv = r'https://docs.google.com/spreadsheets/d/e/2PACX-1vSHqh6vcGYUAo-Hre1fmrUSHULecGVjssEmLZUZb2zq_rQWsvU_a9WL4b6G_wjs8yyB0ObUyyRWqgTG/pub?output=csv'\n",
        "\n",
        "#defines a variable 'df' as the result of the pandas function that translates csv data into a DataFrame, referencing the GSheet URL \n",
        "df = pd.read_csv(pathToCsv, encoding = 'utf8')\n",
        "\n",
        "#defines an array, urls, as the results of the link column in the DataFrame\n",
        "urls = df['link']\n",
        "\n",
        "#defines a new list, blank, as d\n",
        "d = []\n",
        "\n",
        "#runs a for loop where, for each entry, or url, in our array defined as urls, we will update the contents of our array\n",
        "#for each url in urls, the array will get a new 'url status code object', which containts two properties, link and status code\n",
        "\n",
        "for url in urls:\n",
        "    d.append(\n",
        "      {\n",
        "        'link': url,\n",
        "        'status code': requests.get(url).status_code\n",
        "      }\n",
        "    )\n",
        "\n",
        "#if you want to view the results before downloading, use this: pd.DataFrame(d)\n",
        "\n",
        "#convert file to csv and then download it\n",
        "d.to_csv('d.csv')\n",
        "files.download('d.csv')\n",
        "\n"
      ],
      "execution_count": 9,
      "outputs": [
        {
          "output_type": "display_data",
          "data": {
            "application/javascript": [
              "\n",
              "    async function download(id, filename, size) {\n",
              "      if (!google.colab.kernel.accessAllowed) {\n",
              "        return;\n",
              "      }\n",
              "      const div = document.createElement('div');\n",
              "      const label = document.createElement('label');\n",
              "      label.textContent = `Downloading \"${filename}\": `;\n",
              "      div.appendChild(label);\n",
              "      const progress = document.createElement('progress');\n",
              "      progress.max = size;\n",
              "      div.appendChild(progress);\n",
              "      document.body.appendChild(div);\n",
              "\n",
              "      const buffers = [];\n",
              "      let downloaded = 0;\n",
              "\n",
              "      const channel = await google.colab.kernel.comms.open(id);\n",
              "      // Send a message to notify the kernel that we're ready.\n",
              "      channel.send({})\n",
              "\n",
              "      for await (const message of channel.messages) {\n",
              "        // Send a message to notify the kernel that we're ready.\n",
              "        channel.send({})\n",
              "        if (message.buffers) {\n",
              "          for (const buffer of message.buffers) {\n",
              "            buffers.push(buffer);\n",
              "            downloaded += buffer.byteLength;\n",
              "            progress.value = downloaded;\n",
              "          }\n",
              "        }\n",
              "      }\n",
              "      const blob = new Blob(buffers, {type: 'application/binary'});\n",
              "      const a = document.createElement('a');\n",
              "      a.href = window.URL.createObjectURL(blob);\n",
              "      a.download = filename;\n",
              "      div.appendChild(a);\n",
              "      a.click();\n",
              "      div.remove();\n",
              "    }\n",
              "  "
            ],
            "text/plain": [
              "<IPython.core.display.Javascript object>"
            ]
          },
          "metadata": {
            "tags": []
          }
        },
        {
          "output_type": "display_data",
          "data": {
            "application/javascript": [
              "download(\"download_f98f4ef4-adf2-46f1-8b55-05bc1e41772d\", \"d.csv\", 3483)"
            ],
            "text/plain": [
              "<IPython.core.display.Javascript object>"
            ]
          },
          "metadata": {
            "tags": []
          }
        }
      ]
    }
  ]
}