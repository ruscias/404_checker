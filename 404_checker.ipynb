{
  "nbformat": 4,
  "nbformat_minor": 0,
  "metadata": {
    "colab": {
      "name": "404_checker.ipynb",
      "provenance": []
    },
    "kernelspec": {
      "name": "python3",
      "display_name": "Python 3"
    }
  },
  "cells": [
    {
      "cell_type": "code",
      "metadata": {
        "id": "LZtMza0AD9hn"
      },
      "source": [
        "pathToCsv = r'https://docs.google.com/spreadsheets/d/e/2PACX-1vSHqh6vcGYUAo-Hre1fmrUSHULecGVjssEmLZUZb2zq_rQWsvU_a9WL4b6G_wjs8yyB0ObUyyRWqgTG/pub?output=csv'\n",
        "df = pd.read_csv(pathToCsv, encoding = 'utf8')\n",
        "urls = df['link']\n",
        "\n",
        "d = []\n",
        "for url in urls:\n",
        "    d.append(\n",
        "      {\n",
        "        'link': url,\n",
        "        'status code': requests.get(url).status_code\n",
        "      }\n",
        "    )\n",
        "\n",
        "d = pd.DataFrame(d) \n",
        "\n",
        "d.to_csv('d.csv')\n",
        "files.download('d.csv')"
      ],
      "execution_count": null,
      "outputs": []
    }
  ]
}